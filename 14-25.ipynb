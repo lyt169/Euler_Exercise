{
 "cells": [
  {
   "cell_type": "code",
   "execution_count": null,
   "metadata": {},
   "outputs": [],
   "source": [
    "import math"
   ]
  },
  {
   "cell_type": "markdown",
   "metadata": {},
   "source": [
    "#### Problem 14 - Longest Collatz sequence\n",
    "The following iterative sequence is defined for the set of positive integers:\n",
    "\n",
    "*n → n/2 (n is even)*\n",
    "<br>*n → 3n + 1 (n is odd)*\n",
    "\n",
    "Using the rule above and starting with 13, we generate the following sequence:\n",
    "<br>*13 → 40 → 20 → 10 → 5 → 16 → 8 → 4 → 2 → 1*\n",
    "\n",
    "It can be seen that this sequence (starting at 13 and finishing at 1) contains 10 terms. Although it has not been proved yet (Collatz Problem), it is thought that all starting numbers finish at 1.\n",
    "\n",
    "Which starting number, under one million, produces the longest chain?\n",
    "<br>**NOTE:** Once the chain starts the terms are allowed to go above one million."
   ]
  },
  {
   "cell_type": "code",
   "execution_count": null,
   "metadata": {},
   "outputs": [],
   "source": [
    "def chain_length(n):\n",
    "    step = 1\n",
    "    power = math.log1p(2)\n",
    "\n",
    "    while n != 1:\n",
    "        if n % 2 == 0:        # if n is even, half n. if n is odd, 3n + 1\n",
    "            if math.log(n, 2) % 1 == 0:        # optimiser 1: if new n is a power of 2, reduce down to 1.\n",
    "                step += math.log(n, 2)         # exponent = number of steps\n",
    "                break\n",
    "            else:\n",
    "                n /= 2\n",
    "        else:\n",
    "            n = 3 * n + 1\n",
    "        step += 1\n",
    "    return int(step)\n",
    "\n",
    "def longest_collatz_sequence(top):\n",
    "    max_step = 1\n",
    "    max_number = 1\n",
    "    n = top\n",
    "\n",
    "    while n > (top - 1) / 3:         # optimiser 2: no need to look under 333333 = (1000000 - 1)/ 3\n",
    "        l = chain_length(n)\n",
    "        if max_step < l:\n",
    "            max_step = l\n",
    "            max_number = n\n",
    "        n -= 1\n",
    "\n",
    "    return max_number, max_step\n",
    "\n",
    "longest_collatz_sequence(1000000)[0]"
   ]
  },
  {
   "cell_type": "markdown",
   "metadata": {},
   "source": [
    "#### Problem 15 - Lattice paths\n",
    "Starting in the top left corner of a 2×2 grid, and only being able to move to the right and down, there are exactly 6 routes to the bottom right corner.\n",
    "\n",
    "<img src=\"https://projecteuler.net/project/images/p015.png\" alt=\"\" title=\"\" />\n",
    "\n",
    "How many such routes are there through a 20×20 grid?\n",
    "***\n",
    "*Research:*\n",
    "- https://www.robertdickau.com/lattices.html\n",
    "- http://mathworld.wolfram.com/LatticePath.html\n",
    "<br>The number of paths of length a+b from the origin (0,0) to a point (a,b) which are restricted to east and north steps is given by the binomial coefficient $(\\frac{a+b}{a})$.\n"
   ]
  },
  {
   "cell_type": "code",
   "execution_count": null,
   "metadata": {},
   "outputs": [],
   "source": [
    "def factorial(n):\n",
    "    if n == 0:\n",
    "        return 1\n",
    "    else:\n",
    "        return n * factorial(n-1)\n",
    "\n",
    "def lattice_path(m,n):\n",
    "    if m > 0:\n",
    "        return factorial(m+n)/(factorial(n)*factorial(m))\n",
    "\n",
    "lattice_path(20,20)"
   ]
  }
 ],
 "metadata": {
  "kernelspec": {
   "display_name": "Python 3",
   "language": "python",
   "name": "python3"
  },
  "language_info": {
   "codemirror_mode": {
    "name": "ipython",
    "version": 3
   },
   "file_extension": ".py",
   "mimetype": "text/x-python",
   "name": "python",
   "nbconvert_exporter": "python",
   "pygments_lexer": "ipython3",
   "version": "3.7.2"
  }
 },
 "nbformat": 4,
 "nbformat_minor": 2
}
